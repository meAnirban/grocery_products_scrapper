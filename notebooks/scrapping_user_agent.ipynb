{
 "cells": [
  {
   "cell_type": "code",
   "execution_count": 52,
   "id": "29217a6b-7afa-49da-bd8b-a9516f8cd1c5",
   "metadata": {},
   "outputs": [],
   "source": [
    "import requests\n",
    "from bs4 import BeautifulSoup\n",
    "import random"
   ]
  },
  {
   "cell_type": "code",
   "execution_count": 53,
   "id": "7d4de41b-0e74-4bc1-80b3-3e5cd0ce3b37",
   "metadata": {},
   "outputs": [],
   "source": [
    "page_id = 2\n",
    "user_agent_list = set()\n",
    "url = 'https://developers.whatismybrowser.com/useragents/explore/software_name/googlebot/'"
   ]
  },
  {
   "cell_type": "code",
   "execution_count": 54,
   "id": "59bf9b65-1f90-48da-95da-2a161d7a9e83",
   "metadata": {},
   "outputs": [],
   "source": [
    "#get the list of free proxies\n",
    "def makeSoup(url):\n",
    "    r = requests.get(url)\n",
    "    soup = BeautifulSoup(r.content, 'html.parser')\n",
    "    return soup"
   ]
  },
  {
   "cell_type": "code",
   "execution_count": 55,
   "id": "0c51ef6d-0613-40ec-bb08-6b04b58ab266",
   "metadata": {},
   "outputs": [],
   "source": [
    "while True:\n",
    "    url_page_id = url + str(page_id)\n",
    "    soup = makeSoup(url_page_id)\n",
    "    page_id += 1\n",
    "    soup_bots = soup.findAll(class_ = 'code')\n",
    "    if len(soup_bots) == 0:\n",
    "        break\n",
    "    else:\n",
    "        for bots in soup_bots:\n",
    "            user_agent_list.add(bots.text)"
   ]
  },
  {
   "cell_type": "code",
   "execution_count": null,
   "id": "6fa80020-9a8e-40e3-9937-a349156c9195",
   "metadata": {},
   "outputs": [],
   "source": [
    "with open('data/user_agent_list/user_agent_list.txt', 'w') as f:\n",
    "    for line in user_agent_list:\n",
    "        f.write(f\"{line}\\n\")"
   ]
  },
  {
   "cell_type": "code",
   "execution_count": null,
   "id": "8e9ede3e-9504-4dd1-9e1c-4438f7100b45",
   "metadata": {},
   "outputs": [],
   "source": []
  },
  {
   "cell_type": "code",
   "execution_count": null,
   "id": "ed78c7ba-1252-481b-b9a9-e08c7d0f8d98",
   "metadata": {},
   "outputs": [],
   "source": []
  },
  {
   "cell_type": "code",
   "execution_count": 63,
   "id": "66e95fdb-f049-4a85-af19-2ae381a8b5bf",
   "metadata": {},
   "outputs": [],
   "source": [
    "#user_agent_list.add(20)\n",
    "#len(user_agent_list)\n",
    "#user_agent_list"
   ]
  },
  {
   "cell_type": "code",
   "execution_count": 64,
   "id": "e30b98ee-ae00-4d0e-b7b2-6c2e739fd318",
   "metadata": {},
   "outputs": [],
   "source": [
    "#soup.findAll(class_ = 'code')"
   ]
  },
  {
   "cell_type": "code",
   "execution_count": 65,
   "id": "0b233f02-3435-4528-abaa-c52f4d070760",
   "metadata": {},
   "outputs": [],
   "source": [
    "#r = requests.get(url+'1')\n",
    "#soup = BeautifulSoup(r.content, 'html.parser')\n"
   ]
  },
  {
   "cell_type": "code",
   "execution_count": 66,
   "id": "9e05271c-029b-47f1-9134-fa17ec8c1cfd",
   "metadata": {},
   "outputs": [],
   "source": [
    "#len(soup.findAll(class_ = 'code'))"
   ]
  },
  {
   "cell_type": "code",
   "execution_count": null,
   "id": "b248707d-5408-4103-9904-5c0661d216ce",
   "metadata": {},
   "outputs": [],
   "source": [
    "#soup.findAll(class_ = 'code')"
   ]
  }
 ],
 "metadata": {
  "kernelspec": {
   "display_name": "Python 3 (ipykernel)",
   "language": "python",
   "name": "python3"
  },
  "language_info": {
   "codemirror_mode": {
    "name": "ipython",
    "version": 3
   },
   "file_extension": ".py",
   "mimetype": "text/x-python",
   "name": "python",
   "nbconvert_exporter": "python",
   "pygments_lexer": "ipython3",
   "version": "3.9.7"
  }
 },
 "nbformat": 4,
 "nbformat_minor": 5
}
