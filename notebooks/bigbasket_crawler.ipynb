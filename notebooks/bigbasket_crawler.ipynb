{
 "cells": [
  {
   "cell_type": "code",
   "execution_count": 39,
   "id": "daa72e5a-a2b7-4d86-847e-84ca74fe5818",
   "metadata": {},
   "outputs": [],
   "source": [
    "import sys\n",
    "import requests\n",
    "from bs4 import BeautifulSoup\n",
    "import random\n",
    "import os\n",
    "import yaml\n",
    "import csv\n",
    "import pandas as pd\n",
    "import urllib\n",
    "import urllib.request\n",
    "import time"
   ]
  },
  {
   "cell_type": "code",
   "execution_count": 2,
   "id": "18b3a18f-98aa-4873-9a70-8a8537b641b9",
   "metadata": {},
   "outputs": [],
   "source": [
    "with open(\"../config.yaml\", \"r\") as f:\n",
    "    config = yaml.safe_load(f)\n"
   ]
  },
  {
   "cell_type": "code",
   "execution_count": 99,
   "id": "b2ecd902-430f-47cd-a35f-7d0f4e01d405",
   "metadata": {},
   "outputs": [],
   "source": [
    "class BigbasketScrapper:\n",
    "    \n",
    "    def __init__(self, soup):\n",
    "        self.soup = soup\n",
    "        self.product_list = list()\n",
    "        \n",
    "    def get_images(self):\n",
    "        html_list = self.soup.findAll('script')[4].text.replace('\\\\', '')[self.soup.findAll('script')[4].text.replace('\\\\', '').index('{'):-2].split(',')\n",
    "        \n",
    "        i=0\n",
    "\n",
    "        while i < len(html_list):\n",
    "            if 'mimage' in html_list[i]:\n",
    "                image_link = html_list[i].split('\"')[3].strip()\n",
    "                i += 1\n",
    "                while True:\n",
    "                    if 'desc' in html_list[i]:\n",
    "                        product_name = html_list[i].split('\"')[3].strip()\n",
    "                    elif 'w2' in html_list[i]:\n",
    "                        qty = html_list[i].split('\"')[3].strip()\n",
    "                    elif 'brandName' in html_list[i]:\n",
    "                        brandname = html_list[i].split('\"')[3].strip()\n",
    "                        break\n",
    "                    i += 1\n",
    "            \n",
    "                self.product_list.append((brandname, product_name, qty, image_link))\n",
    "                \n",
    "                tempCheck = image_link.split('.')\n",
    "                check = str(tempCheck[len(tempCheck) -1])\n",
    "                ImageType = \".jpeg\"\n",
    "                \n",
    "                if (check == \"jpg\" or check == \"jpeg\" or check == \"png\"):\n",
    "                    \n",
    "                    if check == \"jpg\" or check == \"jpeg\":\n",
    "                        ImageType = \".jpeg\"\n",
    "                    else:\n",
    "                        ImageType = \".png\"\n",
    "                        \n",
    "                    if not os.path.exists(config['path_params']['output_images_path']  + '/' + brandname + '/' + product_name):\n",
    "                        os.makedirs(config['path_params']['output_images_path'] + '/' + brandname + '/' + product_name)\n",
    "                    \n",
    "                    time.sleep(random.randrange(2, 10))\n",
    "                    imagefile = open(config['path_params']['output_images_path']  + '/' + brandname + '/' + product_name + ImageType, 'wb')\n",
    "                    imagefile.write(urllib.request.urlopen(image_link).read())\n",
    "                    imagefile.close()\n",
    "                i +=1\n",
    "            else:\n",
    "                i += 1"
   ]
  },
  {
   "cell_type": "code",
   "execution_count": 38,
   "id": "8b56d874-1133-4ed4-9ae1-e437706b126a",
   "metadata": {},
   "outputs": [],
   "source": [
    "class MakeSoup:\n",
    "    \n",
    "    def __init__(self, url):\n",
    "        self.url = url\n",
    "        \n",
    "    def GET_UA():\n",
    "        #'data/user_agent_list/user_agent_list.txt' \n",
    "        with open(config['path_params']['user_agent_path'] + config['files_names']['user_agent_file']) as f:\n",
    "            user_agents_list = f.readlines()\n",
    "            \n",
    "        return random.choice(user_agents_list)\n",
    "        \n",
    "    def makeSoup_url(self):\n",
    "        headers = {'User-Agent': GET_UA()[:-1]}\n",
    "        r = requests.get(self.url, headers=headers)\n",
    "        soup = BeautifulSoup(r.content, 'html.parser')\n",
    "        return soup"
   ]
  },
  {
   "cell_type": "code",
   "execution_count": 35,
   "id": "08ad46d2-967e-475a-b18d-b90be3df5bed",
   "metadata": {},
   "outputs": [],
   "source": [
    "class BigbasketCrawler:\n",
    "    \n",
    "    def __init__(self):\n",
    "        #'data/url_files/bigbasket.csv' \n",
    "        self.bigbasket_main_urls = pd.read_csv('../' + config['path_params']['url_files_path'] + config['files_names']['bigbasket_main_url_file'], sep ='|')\n",
    "        self.bigbasket_scrapped_urls = list()\n",
    "    \n",
    "    def get_unscrapped_urls(self):\n",
    "        if os.path.exists('../' + config['path_params']['url_files_path'] + config['files_names']['bigbasket_scrapped_urls']):\n",
    "            df3 = self.bigbasket_main_urls.merge(pd.read_csv('../' + config['path_params']['url_files_path'] + config['files_names']['bigbasket_scrapped_urls'], sep = '|'), on='link')\n",
    "            self.bigbasket_main_urls = self.bigbasket_main_urls[~self.bigbasket_main_urls['link'].isin(df3['link'])]\n",
    "        \n",
    "        return self.bigbasket_main_urls\n",
    "    \n",
    "    def get_soup(self):\n",
    "        url_list = self.get_unscrapped_urls()\n",
    "        url_list = url_list[~url_list['category'].isin(['Fresh Vegetables', 'Fresh Fruits', 'Organic Fruits & Vegetables'])].values\n",
    "        \n",
    "        for sub_category in url_list:\n",
    "            print(sub_category)\n",
    "            soup = MakeSoup(sub_category[2])\n",
    "            scrapper = BigbasketScrapper(soup.makeSoup_url())\n",
    "            scrapper.get_images()\n",
    "            self.bigbasket_scrapped_urls.append(sub_category)\n",
    "            pd.DataFrame(self.bigbasket_scrapped_urls, columns=['category', 'sub_category', 'link']).to_csv(config['path_params']['url_files_path'] + config['files_names']['bigbasket_scrapped_urls'], sep = '|', index= False)\n",
    "        "
   ]
  },
  {
   "cell_type": "code",
   "execution_count": 36,
   "id": "f9ce88cd-5dde-481e-a007-7ec18f637693",
   "metadata": {},
   "outputs": [],
   "source": [
    "bigbasket_crawler = BigbasketCrawler()"
   ]
  },
  {
   "cell_type": "code",
   "execution_count": null,
   "id": "1030b666-2ed1-4b56-bc50-26879f37579d",
   "metadata": {},
   "outputs": [],
   "source": [
    "bigbasket_crawler.get_soup()"
   ]
  },
  {
   "cell_type": "code",
   "execution_count": null,
   "id": "3861b8bc-2dbe-4d61-bc04-8348a1d9d562",
   "metadata": {},
   "outputs": [],
   "source": []
  },
  {
   "cell_type": "code",
   "execution_count": null,
   "id": "69d357dc-f4e9-440c-b0e2-13eab1fe9fe4",
   "metadata": {},
   "outputs": [],
   "source": []
  },
  {
   "cell_type": "code",
   "execution_count": 45,
   "id": "142ba174-49af-4990-a9d9-34cd2c9bbb2d",
   "metadata": {},
   "outputs": [],
   "source": [
    "headers = {'User-Agent': 'Mozilla/5.0 (Linux; Android 6.0.1; Nexus 5X Build/MMB29P) AppleWebKit/537.36 (KHTML, like Gecko) Chrome/108.0.5307.0 Mobile Safari/537.36 (compatible; Googlebot/2.1;  http://www.google.com/bot.html)'}\n",
    "url = 'https://www.bigbasket.com/pc/foodgrains-oil-masala/masalas-spices/powdered-spices/?nc=cs'\n",
    "r = requests.get(url, headers=headers)\n",
    "soup = BeautifulSoup(r.content, 'html.parser')"
   ]
  },
  {
   "cell_type": "code",
   "execution_count": 47,
   "id": "e0598004-8c72-4dcc-9e49-90cf88078fb9",
   "metadata": {},
   "outputs": [
    {
     "data": {
      "text/plain": [
       "[]"
      ]
     },
     "execution_count": 47,
     "metadata": {},
     "output_type": "execute_result"
    }
   ],
   "source": [
    "soup.findAll(class_ = 'ng-isolate-scope')"
   ]
  },
  {
   "cell_type": "code",
   "execution_count": 84,
   "id": "0d455354-b82d-4e21-92e2-033c08f36d55",
   "metadata": {},
   "outputs": [],
   "source": [
    "html_list = soup.findAll('script')[4].text.replace('\\\\', '')[soup.findAll('script')[4].text.replace('\\\\', '').index('{'):-2].split(',')"
   ]
  },
  {
   "cell_type": "code",
   "execution_count": null,
   "id": "0ecefc8c-9885-416c-84e8-e9f5c8322764",
   "metadata": {},
   "outputs": [],
   "source": [
    "i=0\n",
    "\n",
    "product_list = list()\n",
    "\n",
    "while i < len(html_list):\n",
    "    if 'mimage' in html_list[i]:\n",
    "        image_link = html_list[i].split('\"')[3].strip()\n",
    "        i += 1\n",
    "        while True:\n",
    "            if 'desc' in html_list[i]:\n",
    "                product_name = html_list[i].split('\"')[3].strip()\n",
    "            elif 'w2' in html_list[i]:\n",
    "                qty = html_list[i].split('\"')[3].strip()\n",
    "            elif 'brandName' in html_list[i]:\n",
    "                brandname = html_list[i].split('\"')[3].strip()\n",
    "                break\n",
    "            i += 1\n",
    "            \n",
    "        product_list.append((brandname, product_name, qty, image_link))\n",
    "        i +=1\n",
    "    else:\n",
    "        i += 1"
   ]
  },
  {
   "cell_type": "code",
   "execution_count": 93,
   "id": "b8c36556-e19c-43f9-a145-7814b39332f5",
   "metadata": {},
   "outputs": [
    {
     "data": {
      "text/plain": [
       "-98"
      ]
     },
     "execution_count": 93,
     "metadata": {},
     "output_type": "execute_result"
    }
   ],
   "source": [
    "37706 - 37804\n"
   ]
  },
  {
   "cell_type": "code",
   "execution_count": 88,
   "id": "0faac4ac-b80f-4fb5-aef0-2bffc57e6d83",
   "metadata": {},
   "outputs": [
    {
     "data": {
      "text/plain": [
       "True"
      ]
     },
     "execution_count": 88,
     "metadata": {},
     "output_type": "execute_result"
    }
   ],
   "source": [
    "'mimage' in '\"mimage\":\"https://www.bigbasket.com/media/uploads/p/m/40077185_9-bb-royal-chillimirchi-powder.jpg\"'"
   ]
  },
  {
   "cell_type": "code",
   "execution_count": null,
   "id": "c30d2a19-4da4-4af0-a2fa-56d572859a89",
   "metadata": {},
   "outputs": [],
   "source": [
    "html_list[5747:5852]"
   ]
  }
 ],
 "metadata": {
  "kernelspec": {
   "display_name": "Python 3 (ipykernel)",
   "language": "python",
   "name": "python3"
  },
  "language_info": {
   "codemirror_mode": {
    "name": "ipython",
    "version": 3
   },
   "file_extension": ".py",
   "mimetype": "text/x-python",
   "name": "python",
   "nbconvert_exporter": "python",
   "pygments_lexer": "ipython3",
   "version": "3.9.7"
  }
 },
 "nbformat": 4,
 "nbformat_minor": 5
}
