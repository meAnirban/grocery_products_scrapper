{
 "cells": [
  {
   "cell_type": "code",
   "execution_count": 113,
   "id": "79a63def-0eae-4479-812c-9c7354fad0d9",
   "metadata": {},
   "outputs": [],
   "source": [
    "import requests\n",
    "from bs4 import BeautifulSoup\n",
    "import random\n",
    "import os\n",
    "import yaml\n",
    "import csv\n",
    "import pandas as pd"
   ]
  },
  {
   "cell_type": "code",
   "execution_count": null,
   "id": "25cf0b95-6d09-4f9d-b350-5de082c36f94",
   "metadata": {},
   "outputs": [],
   "source": []
  },
  {
   "cell_type": "code",
   "execution_count": 109,
   "id": "7d97fb18-f7c4-45c9-8554-6a93b0dd3e19",
   "metadata": {},
   "outputs": [],
   "source": [
    "with open(\"../config.yaml\", \"r\") as f:\n",
    "    config = yaml.safe_load(f)"
   ]
  },
  {
   "cell_type": "code",
   "execution_count": 110,
   "id": "34f80679-043d-4a4d-b8ff-29f6161be663",
   "metadata": {},
   "outputs": [],
   "source": [
    "def GET_UA():\n",
    "    with open('../data/user_agent_list/user_agent_list.txt') as f:\n",
    "        user_agents_list = f.readlines()\n",
    "    \n",
    "    return random.choice(user_agents_list)"
   ]
  },
  {
   "cell_type": "code",
   "execution_count": null,
   "id": "10c832ff-bf3b-4948-9ae7-2dba119dece5",
   "metadata": {},
   "outputs": [],
   "source": []
  },
  {
   "cell_type": "code",
   "execution_count": 111,
   "id": "d3eb7116-4196-4c4d-a6b2-f481f929e9c0",
   "metadata": {},
   "outputs": [],
   "source": [
    "#get the list of free proxies\n",
    "def makeSoup(url):\n",
    "    headers = {'User-Agent': GET_UA()[:-1]}\n",
    "    r = requests.get(url, headers=headers)\n",
    "    soup = BeautifulSoup(r.content, 'html.parser')\n",
    "    return soup"
   ]
  },
  {
   "cell_type": "code",
   "execution_count": 112,
   "id": "9f709f52-fe71-4939-952b-ad44b47e0062",
   "metadata": {},
   "outputs": [],
   "source": [
    "soup = makeSoup(config['platform_urls']['bigbasket']['all_categories_url'])"
   ]
  },
  {
   "cell_type": "code",
   "execution_count": 97,
   "id": "3e2fa0aa-77df-465b-976c-32c43cff719c",
   "metadata": {},
   "outputs": [],
   "source": [
    "categories = soup.findAll(class_ = 'DropDownColum')"
   ]
  },
  {
   "cell_type": "code",
   "execution_count": 99,
   "id": "954e5cb2-5ffa-4d6e-8647-401ba5e0a69e",
   "metadata": {},
   "outputs": [],
   "source": [
    "link_list = list()\n",
    "\n",
    "for cate_ in categories:\n",
    "    category = cate_.find('a').text\n",
    "    sub_categories = cate_.find_all('li')\n",
    "    for sub_cate_ in sub_categories:\n",
    "        sub_category = sub_cate_.text\n",
    "        sub_category_link = config['platform_urls']['bigbasket']['main_url'] + sub_cate_.find_all('a', href=True)[0]['href']\n",
    "        link_list.append((category, sub_category, sub_category_link))"
   ]
  },
  {
   "cell_type": "code",
   "execution_count": null,
   "id": "bb1c26d9-3e00-4865-8ca2-84104d39675e",
   "metadata": {},
   "outputs": [],
   "source": []
  },
  {
   "cell_type": "code",
   "execution_count": null,
   "id": "7023fe8e-6c87-4467-8c15-9d6b3673e9e5",
   "metadata": {},
   "outputs": [],
   "source": [
    "with open('data/url_files/bigbasket.csv','w', newline ='') as out:\n",
    "    csv_out=csv.writer(out)\n",
    "    csv_out.writerow(link_list)\n",
    "    #for row in link_list:\n",
    "    #    csv_out.writerow(row)"
   ]
  },
  {
   "cell_type": "code",
   "execution_count": 116,
   "id": "4aec11b5-3839-4082-ba91-106fcaf7ee8b",
   "metadata": {},
   "outputs": [],
   "source": [
    "\n",
    "pd.DataFrame(link_list, columns=['category', 'sub_category', 'link']).to_csv('bigbasket.csv', sep = '|', index= False)"
   ]
  },
  {
   "cell_type": "code",
   "execution_count": 103,
   "id": "e0f30a71-c2e4-4e67-8048-ab2090dcd2e1",
   "metadata": {},
   "outputs": [],
   "source": [
    "#.DropDownColum li a"
   ]
  },
  {
   "cell_type": "code",
   "execution_count": 104,
   "id": "f6deb1b7-f43a-4c93-aca5-734caef4b127",
   "metadata": {},
   "outputs": [],
   "source": [
    "#len(soup.findAll(class_ = 'DropDownColum'))[10].find_all('li')"
   ]
  },
  {
   "cell_type": "code",
   "execution_count": 107,
   "id": "267f1494-0c09-47bd-a7f2-94c342eb7b70",
   "metadata": {},
   "outputs": [],
   "source": [
    "#soup.findAll(class_ = 'DropDownColum')[10]#.find_all('li')[0].find_all('a', href=True)[0]['href']#.get('href')#.find_all('a', href=True)"
   ]
  },
  {
   "cell_type": "code",
   "execution_count": null,
   "id": "efb50a40-08be-4033-8012-c19c08d8c80f",
   "metadata": {},
   "outputs": [],
   "source": []
  }
 ],
 "metadata": {
  "kernelspec": {
   "display_name": "Python 3 (ipykernel)",
   "language": "python",
   "name": "python3"
  },
  "language_info": {
   "codemirror_mode": {
    "name": "ipython",
    "version": 3
   },
   "file_extension": ".py",
   "mimetype": "text/x-python",
   "name": "python",
   "nbconvert_exporter": "python",
   "pygments_lexer": "ipython3",
   "version": "3.9.7"
  }
 },
 "nbformat": 4,
 "nbformat_minor": 5
}
