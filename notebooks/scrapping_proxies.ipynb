{
 "cells": [
  {
   "cell_type": "code",
   "execution_count": 1,
   "id": "41275529-0ad9-45ab-b41c-7fe847f8dce5",
   "metadata": {},
   "outputs": [],
   "source": [
    "import requests\n",
    "from bs4 import BeautifulSoup\n",
    "import random\n",
    "import concurrent.futures\n"
   ]
  },
  {
   "cell_type": "code",
   "execution_count": 2,
   "id": "b7b4d1ff-915d-48dd-8e5d-86787d5eb17a",
   "metadata": {},
   "outputs": [],
   "source": [
    "#get the list of free proxies\n",
    "def getProxies():\n",
    "    r = requests.get('https://free-proxy-list.net/')\n",
    "    soup = BeautifulSoup(r.content, 'html.parser')\n",
    "    table = soup.find('tbody')\n",
    "    proxies = []\n",
    "    for row in table:\n",
    "        if row.find_all('td')[4].text =='elite proxy':\n",
    "            proxy = ':'.join([row.find_all('td')[0].text, row.find_all('td')[1].text])\n",
    "            proxies.append(proxy)\n",
    "        else:\n",
    "            pass\n",
    "    return proxies\n"
   ]
  },
  {
   "cell_type": "code",
   "execution_count": 3,
   "id": "a93fa6d7-0710-473d-9543-53972b4e6a58",
   "metadata": {},
   "outputs": [],
   "source": [
    "def extract(proxy):\n",
    "    #this was for when we took a list into the function, without conc futures.\n",
    "    #proxy = random.choice(proxylist)\n",
    "    headers = {'User-Agent': 'Mozilla/5.0 (Windows NT 6.1; WOW64; rv:40.0) Gecko/20100101 Firefox/40.0'}\n",
    "    try:\n",
    "        #change the url to https://httpbin.org/ip that doesnt block anything\n",
    "        r = requests.get('https://www.bigbasket.com/pc/foodgrains-oil-masala/atta-flours-sooji/?nc=nb', headers=headers, proxies={'http' : proxy,'https': proxy}, timeout=4)\n",
    "        print(r.json(), r.status_code)\n",
    "        print('working')\n",
    "    except requests.ConnectionError as err:\n",
    "        print(repr(err))\n",
    "    return proxy\n",
    "\n"
   ]
  },
  {
   "cell_type": "code",
   "execution_count": 4,
   "id": "91ae52e4-8030-4e60-9000-6f4773d586ff",
   "metadata": {},
   "outputs": [
    {
     "name": "stdout",
     "output_type": "stream",
     "text": [
      "54\n"
     ]
    }
   ],
   "source": [
    "proxylist = getProxies()\n",
    "print(len(proxylist))"
   ]
  },
  {
   "cell_type": "code",
   "execution_count": 5,
   "id": "7aba55c0-ede0-4c93-a668-10f5dce56eee",
   "metadata": {},
   "outputs": [
    {
     "data": {
      "text/plain": [
       "['159.138.26.131:9000',\n",
       " '178.79.191.47:54417',\n",
       " '90.102.20.197:82',\n",
       " '198.59.191.234:8080',\n",
       " '198.49.68.80:80',\n",
       " '169.57.1.85:8123',\n",
       " '130.41.55.190:8080',\n",
       " '104.129.192.155:10340',\n",
       " '83.229.72.174:80',\n",
       " '20.111.54.16:80',\n",
       " '20.206.106.192:8123',\n",
       " '170.39.116.186:3128',\n",
       " '128.199.145.177:443',\n",
       " '58.27.59.249:80',\n",
       " '121.1.41.162:111',\n",
       " '209.126.6.159:80',\n",
       " '41.65.236.43:1981',\n",
       " '82.165.105.48:80',\n",
       " '172.105.196.53:9000',\n",
       " '91.121.34.86:80',\n",
       " '213.230.107.235:8080',\n",
       " '37.32.20.101:8080',\n",
       " '66.175.223.147:4153',\n",
       " '41.65.252.101:1981',\n",
       " '200.7.147.139:3128',\n",
       " '162.19.50.37:80',\n",
       " '209.182.217.186:80',\n",
       " '128.199.97.42:80',\n",
       " '137.184.197.190:80',\n",
       " '3.212.9.208:80',\n",
       " '74.205.128.200:80',\n",
       " '202.6.233.133:80',\n",
       " '157.230.48.102:80',\n",
       " '45.79.158.235:1080',\n",
       " '187.217.54.84:80',\n",
       " '162.214.118.137:80',\n",
       " '192.236.160.186:80',\n",
       " '172.105.184.208:8001',\n",
       " '45.79.208.64:44554',\n",
       " '80.48.119.28:8080',\n",
       " '194.195.213.197:1080',\n",
       " '222.237.249.172:8080',\n",
       " '36.93.5.25:9812',\n",
       " '187.130.139.197:8080',\n",
       " '157.100.26.69:80',\n",
       " '119.8.238.213:8118',\n",
       " '68.183.230.116:39517',\n",
       " '188.0.147.102:3128',\n",
       " '85.70.210.30:80',\n",
       " '45.79.27.210:44554',\n",
       " '45.56.75.90:5344',\n",
       " '52.168.34.113:80',\n",
       " '129.205.183.60:8081',\n",
       " '8.214.4.72:33080']"
      ]
     },
     "execution_count": 5,
     "metadata": {},
     "output_type": "execute_result"
    }
   ],
   "source": [
    "proxylist"
   ]
  },
  {
   "cell_type": "code",
   "execution_count": 6,
   "id": "6b5ba7fe-ca10-4716-a4e7-d024cbdb25a6",
   "metadata": {},
   "outputs": [],
   "source": [
    "#check them all with futures super quick\n",
    "with concurrent.futures.ThreadPoolExecutor() as executor:\n",
    "        executor.map(extract, proxylist)"
   ]
  },
  {
   "cell_type": "code",
   "execution_count": null,
   "id": "484a0f07-2e01-44b2-bbb1-215d712c4cfa",
   "metadata": {},
   "outputs": [],
   "source": []
  },
  {
   "cell_type": "code",
   "execution_count": 7,
   "id": "7dbc58cb-42ca-4ff5-9673-90f4a1c53a09",
   "metadata": {},
   "outputs": [],
   "source": [
    "#extract('169.57.1.85:8123')\n",
    "#requests.get('https://www.bigbasket.com/pc/foodgrains-oil-masala/atta-flours-sooji/?nc=nb', headers = {'User-Agent': 'Mozilla/5.0 (Windows NT 6.1; WOW64; rv:40.0) Gecko/20100101 Firefox/40.0'}, proxies={'http' : 'http://' + proxylist[random.randint(0, len(proxylist) - 1)],'https': 'https://' + proxylist[random.randint(0, len(proxylist) - 1)]}, timeout=3)"
   ]
  },
  {
   "cell_type": "code",
   "execution_count": null,
   "id": "9e2944fd-ef80-4333-b83c-85984be8db36",
   "metadata": {},
   "outputs": [],
   "source": []
  },
  {
   "cell_type": "code",
   "execution_count": null,
   "id": "09bbe01a-9fd1-478e-aa42-fb1146c14a85",
   "metadata": {},
   "outputs": [],
   "source": []
  }
 ],
 "metadata": {
  "kernelspec": {
   "display_name": "Python 3 (ipykernel)",
   "language": "python",
   "name": "python3"
  },
  "language_info": {
   "codemirror_mode": {
    "name": "ipython",
    "version": 3
   },
   "file_extension": ".py",
   "mimetype": "text/x-python",
   "name": "python",
   "nbconvert_exporter": "python",
   "pygments_lexer": "ipython3",
   "version": "3.9.7"
  }
 },
 "nbformat": 4,
 "nbformat_minor": 5
}
